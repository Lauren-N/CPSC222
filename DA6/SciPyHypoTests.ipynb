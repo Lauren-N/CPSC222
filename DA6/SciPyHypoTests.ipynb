{
 "cells": [
  {
   "cell_type": "code",
   "execution_count": 49,
   "metadata": {},
   "outputs": [],
   "source": [
    "\"\"\"\n",
    "Name: Lauren Nguyen\n",
    "Course: CPSC 222\n",
    "Assignment: Data Assignment 6\n",
    "Date: 11/17/22\n",
    "Description: Program displays different hypothesis testing exercises\n",
    "             and checking with SciPy\n",
    "\"\"\"\n",
    "import pandas as pd\n",
    "import numpy as np\n",
    "from scipy import stats\n",
    "import json\n"
   ]
  },
  {
   "cell_type": "markdown",
   "metadata": {},
   "source": [
    "### *Independent hypothesis testing equations:*\n",
    "$\\overline{X}$ = $\\frac{\\sum X}{n}$  \n",
    "n = number of elements in a set  \n",
    "s = $\\sqrt{\\frac{\\sum {(x - \\overline{x})}^2}{n-1}}$  \n",
    "Degrees of Freedom = $(n_1 + n_2) - 2$\n",
    "\n",
    "\n",
    "### *Dependant hypothesis testing equations:*\n",
    "n = number of elements in a set  \n",
    "Degrees of Freedom = $n-1$  \n",
    "$\\overline{d}$ **(Mean Difference)** = $\\frac{\\sum d}{n}$  \n",
    "$\\mu_d$ = the hypothesized mean difference, equals 0  \n",
    "$S_{\\overline{d}}$ = $\\frac{S_d}{\\sqrt{n}}$"
   ]
  },
  {
   "cell_type": "markdown",
   "metadata": {},
   "source": [
    "## **One tailed two sample independent hypothesis t-test**\n",
    "The hypothesis we are testing: is the mean age of women who had a stroke greater than the mean age of men who had a stroke? \n",
    "\n",
    "The data were are analyzing comes from a csv file containing information on these patients. One of the attributes in this csv file is called RIC, which is what we are pulling from. More specifically the stroke patients which we are splitting up to men and women then analyzing!\n",
    "\n",
    "**Setting up our 5 Step process**\n",
    "\n",
    "1. Identifying the null($H_{0}$) and alternative hypothesis($H_{1}$)\n",
    "    * $H_{0}$: $\\mu_f \\le \\mu_m$\n",
    "    * $H_{1}$: $\\mu_f > \\mu_m$\n",
    "1. Select Level of significance\n",
    "    * Our level of significance will be 0.01\n",
    "1. Select the appropiate test statistic\n",
    "    * t-computed = $\\frac{\\overline{X_{1}} - \\overline{X_{2}}}{\\sqrt{{S_{p}}^2(\\frac{1}{n_1} + \\frac{1}{n_2})}}$\n",
    "    * ${S_{p}}^2$ = $\\frac{(n_1 - 1){S_1}^2 + (n_2 - 1){S_2}^2}{n_1 + n_2 - 2}$\n",
    "1. Formulate the decision rule\n",
    "    * degrees of freedom = 1167\n",
    "    * t-critical = 2.326\n",
    "    * If t-computed is > 2.326 then reject $H_{0}$\n",
    "    * if t-computed is < 2.326 then accept $H_{0}$\n",
    "1. Make a decision\n",
    "    * t-computed: 2.90\n",
    "    * Since t-computed is > 2.326, reject $H_{0}$\n",
    "\n",
    "**End Result:** At a 0.01 level of significance, it seems the average age of male stroke patients is greater than the average age of female stroke patients"
   ]
  },
  {
   "cell_type": "code",
   "execution_count": 50,
   "metadata": {},
   "outputs": [
    {
     "name": "stdout",
     "output_type": "stream",
     "text": [
      "2.9035946868134674 0.0018792474513853405\n"
     ]
    }
   ],
   "source": [
    "Xbar_f = 72.705882\n",
    "Xbar_m = 70.331126\n",
    "s_f = 14.566613\n",
    "s_m = 13.396726\n",
    "n_f = 562\n",
    "n_m = 607\n",
    "\n",
    "t_computed, pval = stats.ttest_ind_from_stats(Xbar_f, s_f, n_f, Xbar_m, s_m, n_m, equal_var=True)\n",
    "pval /= 2\n",
    "print(t_computed, pval)\n"
   ]
  },
  {
   "cell_type": "markdown",
   "metadata": {},
   "source": [
    "## **Two tailed two sample independent hypothesis test**\n",
    "Hypothesis: determine if there is a difference in the number of days 222 students are active on Ed (e.g. \"Days Active\") compared to 322 students\n",
    "\n",
    "The data we are analyzing for this test comes from two JSON files containing information from CPSC222 students and CPSC322 students. It details attributes including \"Views\", \"Questions\", \"Days Active\" on the ED puzzle platform. For this hypothesis we are specifically focusing on the \"Days Active\" and comparing the two to see if they are equal.\n",
    "\n",
    "**Setting up our 5 Step process**\n",
    "\n",
    "1. Identifying the null($H_{0}$) and alternative hypothesis($H_{1}$)\n",
    "    * $H_{0}$: $\\mu_{222}$ = $\\mu_{322}$\n",
    "    * $H_{1}$: $\\mu_{222}$ $\\neq$ $\\mu_{322}$\n",
    "1. Select Level of significance\n",
    "    * Our level of significance will be 0.01\n",
    "1. Select the appropiate test statistic\n",
    "    * t-computed = $\\frac{\\overline{X_{1}} - \\overline{X_{2}}}{\\sqrt{{S_{p}}^2(\\frac{1}{n_1} + \\frac{1}{n_2})}}$\n",
    "    * ${S_{p}}^2$ = $\\frac{(n_1 - 1){S_1}^2 + (n_2 - 1){S_2}^2}{n_1 + n_2 - 2}$\n",
    "1. Formulate the decision rule\n",
    "    * degrees of freedom = 92 \n",
    "    * t-critical = 2.368\n",
    "    * If -2.368 < t-computed < 2.368 then accept $H_{0}$\n",
    "    * If t-computed is < -2.368 or t-computed is > 2.368, reject $H_{0}$\n",
    "1. Make a decision\n",
    "    * t-computed: -5.48\n",
    "    * Since t-computed is not between -2.3698 and 2.368, reject $H_{0}$\n",
    "\n",
    "**End Result:** At the 0.01 significance level, we can conclude that there is a difference in the days active in CPSC222 and the days active in CPSC322."
   ]
  },
  {
   "cell_type": "code",
   "execution_count": 51,
   "metadata": {},
   "outputs": [
    {
     "name": "stdout",
     "output_type": "stream",
     "text": [
      "92\n",
      "-5.487771363199516 3.5684494006989487e-07\n"
     ]
    }
   ],
   "source": [
    "# opening 222 data\n",
    "infile = open(\"C:/Users/dzuy/Desktop/CPSC222/DAs/da_6/ed_222.json\", \"r\")\n",
    "cpsc_222 = json.load(infile)\n",
    "for days_active_222 in cpsc_222:\n",
    "    days_active_222 = cpsc_222['Days Active']\n",
    "# opening 322 data\n",
    "infile = open(\"C:/Users/dzuy/Desktop/CPSC222/DAs/da_6/ed_322.json\", \"r\")\n",
    "cpsc_322 = json.load(infile)\n",
    "for days_active_322 in cpsc_322:\n",
    "    days_active_322 = cpsc_322['Days Active']\n",
    "\n",
    "# finding df\n",
    "n1 = len(days_active_222)\n",
    "n2 = len(days_active_322)\n",
    "df = (n1+n2)-2\n",
    "print(df)\n",
    "\n",
    "# turning dictionarys into series\n",
    "ser_222 = pd.Series(days_active_222)\n",
    "ser_322 = pd.Series(days_active_322)\n",
    "\n",
    "t_computed, pval = stats.ttest_ind(ser_222, ser_322)\n",
    "print(t_computed, pval)\n"
   ]
  },
  {
   "cell_type": "markdown",
   "metadata": {},
   "source": [
    "## **One tailed two sample independent hypothesis test** \n",
    "Hypothesis: Is the mean duration for students who took the quiz remotely greater than the mean duration for students who took the quiz in the classroom\n",
    "\n",
    "This data comes from two class sections: CPSC222 and CPSC315. The csv file contains information from both on how long it took them to complete a quiz. Also tracked was if the student completed it in perosn or online. 0 correlating to online and 1 relating to in person.\n",
    "\n",
    "**Setting up our 5 Step process**\n",
    "\n",
    "1. Identifying the null($H_{0}$) and alternative hypothesis($H_{1}$)\n",
    "    * $H_{0}$: $\\mu_0$ $\\le$ $\\mu_1$\n",
    "    * $H_{1}$: $\\mu_0 > \\mu_1$\n",
    "1. Select Level of significance\n",
    "    * Our level of significance will be 0.005\n",
    "1. Select the appropiate test statistic\n",
    "    * t-computed = $\\frac{\\overline{X_{1}} - \\overline{X_{2}}}{\\sqrt{{S_{p}}^2(\\frac{1}{n_1} + \\frac{1}{n_2})}}$\n",
    "    * ${S_{p}}^2$ = $\\frac{(n_1 - 1){S_1}^2 + (n_2 - 1){S_2}^2}{n_1 + n_2 - 2}$\n",
    "1. Formulate the decision rule\n",
    "    * degrees of freedom = 92\n",
    "    * t-critical = 2.660\n",
    "    * If t-computed is > 2.660 then reject $H_{0}$\n",
    "    * If t-computed is < 2.660 then accept $H_{0}$\n",
    "1. Make a decision\n",
    "    * t-computed: 2.13\n",
    "    * Since t-computed > 2.660, we reject $H_{0}$\n",
    "\n",
    "**End Result:** At a significance level of 0.005, we can conclude that students online took longer on the quiz compared to those who took it in person."
   ]
  },
  {
   "cell_type": "code",
   "execution_count": 52,
   "metadata": {},
   "outputs": [
    {
     "name": "stdout",
     "output_type": "stream",
     "text": [
      "92\n",
      "4.12720417112991 4.029306042293943e-05\n"
     ]
    }
   ],
   "source": [
    "iq1_df = pd.read_csv(\"IQ1_quiz_durations.csv\", index_col=0)\n",
    "\n",
    "online_df = iq1_df[iq1_df.index == 0]\n",
    "inperson_df = iq1_df[iq1_df.index == 1]\n",
    "\n",
    "ser_online = pd.Series(online_df.loc[:,\"Hours Start to Finish\"])\n",
    "ser_inperson = pd.Series(inperson_df.loc[:,\"Hours Start to Finish\"])\n",
    "\n",
    "n1 = len(online_df)\n",
    "n2 = len(inperson_df)\n",
    "df = (n1+n2)-2\n",
    "print(df)\n",
    "\n",
    "t_computed, pval = stats.ttest_ind(ser_online, ser_inperson)\n",
    "pval = pval/2\n",
    "print(t_computed, pval)"
   ]
  },
  {
   "cell_type": "markdown",
   "metadata": {},
   "source": [
    "## **One tailed two sample dependant hypothesis test**\n",
    "Hypothesis: is the mean circuit duration for subjects at trial B less than it was at trial A (meaning, did the subjects perform the circuit faster after one week of physical therapy)?\n",
    "\n",
    "This data comes from a csv file containing durations of 27 subjects doing a circuit. These subjects performed these circuits twice with one week seperating the two, trial A and trial B. In between these trials the subjects recieved physical therapy in the week between to improve their ability to complete the circuit.\n",
    "\n",
    "**Setting up our 5 Step process**\n",
    "\n",
    "1. Identifying the null($H_{0}$) and alternative hypothesis($H_{1}$)\n",
    "    * $H_{0}$: $\\mu_B \\ge \\mu_A$\n",
    "    * $H_{1}$: $\\mu_B < \\mu_A$\n",
    "1. Select Level of significance\n",
    "    * Our level of significance will be 0.01\n",
    "1. Select the appropiate test statistic\n",
    "    * t-computed = $\\frac{\\overline{d} - \\mu_d}{S_{\\overline{d}}}$\n",
    "1. Formulate the decision rule\n",
    "    * degrees of freedom = 26\n",
    "    * t-critical = 2.479\n",
    "    * If t-computed is > 2.479 then reject $H_{0}$\n",
    "    * If t-computes is < 2.479 then accept $H_{0}$\n",
    "1. Make a decision\n",
    "    * t-computed: -3.34\n",
    "    * Since t-computed is not greater than 2.479, we accept $H_{0}$\n",
    "\n",
    "**End Result:** At a significance level of 0.01, we can conclude that the mean duration of trial B improved from the mean duration of trial A."
   ]
  },
  {
   "cell_type": "code",
   "execution_count": 53,
   "metadata": {},
   "outputs": [
    {
     "name": "stdout",
     "output_type": "stream",
     "text": [
      "26\n",
      "-3.336688368513952 0.0012809826011843611\n"
     ]
    }
   ],
   "source": [
    "circuit_trials_df = pd.read_csv(\"circuit_trials.csv\", index_col=0)\n",
    "a_trial = circuit_trials_df.loc[circuit_trials_df[\"Trial ID\"]==\"A\"]\n",
    "b_trial = circuit_trials_df.loc[circuit_trials_df[\"Trial ID\"]==\"B\"]\n",
    "a_duration = pd.Series(a_trial.loc[:,\"Duration\"])\n",
    "b_duration = pd.Series(b_trial.loc[:,\"Duration\"])\n",
    "\n",
    "# Calculating df\n",
    "n = len(b_duration)\n",
    "df = n-1\n",
    "print(df)\n",
    "\n",
    "t_computed, pval = stats.ttest_rel(b_duration, a_duration)\n",
    "pval /= 2\n",
    "print(t_computed, pval)\n"
   ]
  },
  {
   "cell_type": "markdown",
   "metadata": {},
   "source": [
    "## **One Tailed Two Sample Independent Hypothesis Test**\n",
    "Hypothesis: Is the returning visitor mean greater than the new vistor mean in the Gonzaga daily website visitor dataset?\n",
    "\n",
    "This dataset comes from a GU website that tracks the daily number of new or returning visitors to the Gonzaga University website. It ranges from 2018-2022. \n",
    "\n",
    "**Setting up our 5 Step process**\n",
    "\n",
    "1. Identifying the null($H_{0}$) and alternative hypothesis($H_{1}$)\n",
    "    * $H_{0}$: $\\mu_R \\le \\mu_N$\n",
    "    * $H_{1}$: $\\mu_R > \\mu_N$\n",
    "1. Select Level of significance\n",
    "    * Our level of significance will be 0.05\n",
    "1. Select the appropiate test statistic\n",
    "    * t-computed = $\\frac{\\overline{X_{1}} - \\overline{X_{2}}}{\\sqrt{{S_{p}}^2(\\frac{1}{n_1} + \\frac{1}{n_2})}}$\n",
    "    * ${S_{p}}^2$ = $\\frac{(n_1 - 1){S_1}^2 + (n_2 - 1){S_2}^2}{n_1 + n_2 - 2}$\n",
    "1. Formulate the decision rule\n",
    "    * degrees of freedom = 2920\n",
    "    * t-critical = 2.326\n",
    "    * If t-computed is > 2.326 then reject $H_{0}$\n",
    "    * If t-computer is < 2.326 accept $H_{0}$\n",
    "1. Make a decision\n",
    "    * t-computed: -0.17\n",
    "    * Since t-computed is less than 2.326, accept $H_{0}$\n",
    "\n",
    "**End Result:** At a significance level of 0.05, we can conclude that the mean number of returning visitors is less than the mean number of new visitors to the Gonzaga University website."
   ]
  },
  {
   "cell_type": "code",
   "execution_count": 54,
   "metadata": {},
   "outputs": [
    {
     "name": "stdout",
     "output_type": "stream",
     "text": [
      "2920\n",
      "-0.17068777111586536 0.4322405523174508\n"
     ]
    }
   ],
   "source": [
    "df = pd.read_csv(\"GU_website_daily_visitors_2018-2022.csv\")\n",
    "\n",
    "return_df = df.loc[:,\"Returning Visitor\"]\n",
    "new_df = df.loc[:,\"New Visitor\"]\n",
    "\n",
    "return_ser = pd.Series(return_df)\n",
    "new_ser = pd.Series(new_df)\n",
    "\n",
    "\n",
    "n1 = len(return_df)\n",
    "n2 = len(new_df)\n",
    "df = (n1 + n2) -2\n",
    "print(df)\n",
    "\n",
    "t_computed, pval = stats.ttest_ind(return_ser, new_ser)\n",
    "pval /= 2\n",
    "print(t_computed, pval)\n"
   ]
  },
  {
   "cell_type": "markdown",
   "metadata": {},
   "source": []
  }
 ],
 "metadata": {
  "kernelspec": {
   "display_name": "Python 3.9.12 ('base')",
   "language": "python",
   "name": "python3"
  },
  "language_info": {
   "codemirror_mode": {
    "name": "ipython",
    "version": 3
   },
   "file_extension": ".py",
   "mimetype": "text/x-python",
   "name": "python",
   "nbconvert_exporter": "python",
   "pygments_lexer": "ipython3",
   "version": "3.9.12"
  },
  "orig_nbformat": 4,
  "vscode": {
   "interpreter": {
    "hash": "c40ef6c36201f864b399f9acd17760385561694cf3c633e8ea711e7dff52fea3"
   }
  }
 },
 "nbformat": 4,
 "nbformat_minor": 2
}
