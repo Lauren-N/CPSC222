{
 "cells": [
  {
   "cell_type": "markdown",
   "metadata": {},
   "source": [
    "# Ethics for DA5"
   ]
  },
  {
   "cell_type": "markdown",
   "metadata": {},
   "source": [
    "##### 1. Toward the beginning of the documentary, viewers are presented with the idea that social media sells our attention to advertisers to make their profits. The quote that best summarizes this business model is, \"If you’re not paying for the product, then you are the product.\" How do you feel about selling your attention to use the products for free? Are there short and long term effects that we can/cannot foresee?  \n",
    "For me personally I think that selling my attention to use the products for free is a somewhat even trade but I think that ethically it varies from person to person. Since I have grown up in such a technology driven world, I have not experienced a life where technology was not involved. I am not too bothered by it but I think if I was older and grew up surrounded by less technology it would bother me more. I think there definetly some long term effects that we can not forsee. Like how devoting our attention effects our brains and social interactions with others in real life"
   ]
  },
  {
   "cell_type": "markdown",
   "metadata": {},
   "source": [
    "##### 2. Tristan Harris states, \"On the other side of the screen, it’s almost as if they had this avatar voodoo doll-like model of us. All of the things we've ever done, all the clicks we’ve ever made, all the videos we’ve watched, all the likes, that all gets brought back into building a more and more accurate model. The model, once you have it, you can predict the kinds of things that person does.\" He then states that tech companies have three main goals: engagement (drive up your usage), growth (keep you coming back and inviting friends), and advertising (making as much money as possible from advertising). Are there ethical lines that companies should not cross in order to achieve these three goals? Do you feel that the \"avatar voodoo doll-like model of us\" crosses these lines? Why or why not?  \n",
    "I believe that there are ethical lines that companies should not cross when trying to achieve these three goals. It is very invasive learnign that everything you have ever done on the internet is stored somewhere in a room in the world. I think this breach of privacy is a little unethical in its pursuit for these goals. I also think the \"avatar voodoo doll like model\" feels like a line crossed. Though the imagery of the little guys controling the model was a exaggeration, it felt very odd having something control how I behave and go through my days. The predictions that these algorithms are making I think should be more general instead of the very tailored to each person that it is right now."
   ]
  },
  {
   "cell_type": "markdown",
   "metadata": {},
   "source": [
    "\n",
    "\n",
    "##### 3. How do you feel about persuasive technology (e.g. programming of the \"the positive intermittent reinforcement\", AKA the slot machine)? As humans, are we able to differentiate between our original thoughts and ones that are \"planted\" unconsciously by persuasive technology?  \n",
    "I do not enjoy the persuasive technology or slot machine. I myself can remember times that this exact experience of checking my phone in class to see if anything new has happened. I get distracted from class thinking about the possibilities that I am missing on my phone at that moment and it compells me to check and miss lessons in class. I think as humans I would like to think that we are able to differntiate our original thoughts from the ones that are planted unconciously by persuasive technology but there does not seem to be a way to tell. I remember when I was in AP Psychology in highschool, we learned about false memory implantation. People were interviewed about a experience as a child where they got lost in a mall and had to ask a clown for help. Though none of the participants had actually experienced this, they all actively said they recalled the memory so vividly like it did happen. This type of implantation is very complex and is hard to differentiate what is true or not from your own perspective."
   ]
  },
  {
   "cell_type": "markdown",
   "metadata": {},
   "source": [
    "##### 4. What else struck you about this documentary?  \n",
    "Something else that had struck me about this documentary was the real life scenarios that was included in the documentary. Even though it was staged, it made what they were discussing a lot more relatable by seeing it effect people in real situations that has happened to most likely everyone at least once in their lives. "
   ]
  },
  {
   "cell_type": "markdown",
   "metadata": {},
   "source": []
  }
 ],
 "metadata": {
  "kernelspec": {
   "display_name": "Python 3.9.12 ('base')",
   "language": "python",
   "name": "python3"
  },
  "language_info": {
   "name": "python",
   "version": "3.9.12"
  },
  "orig_nbformat": 4,
  "vscode": {
   "interpreter": {
    "hash": "c40ef6c36201f864b399f9acd17760385561694cf3c633e8ea711e7dff52fea3"
   }
  }
 },
 "nbformat": 4,
 "nbformat_minor": 2
}
