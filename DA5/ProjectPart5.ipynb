{
 "cells": [
  {
   "cell_type": "code",
   "execution_count": 131,
   "metadata": {},
   "outputs": [
    {
     "data": {
      "text/plain": [
       "<module 'utils' from 'c:\\\\Users\\\\dzuy\\\\Desktop\\\\CPSC222\\\\DAs\\\\da_5\\\\utils.py'>"
      ]
     },
     "execution_count": 131,
     "metadata": {},
     "output_type": "execute_result"
    }
   ],
   "source": [
    "\"\"\"\n",
    "Name: Lauren Nguyen\n",
    "Course: CPSC 222\n",
    "Assignment: Data Assignment 5\n",
    "Date: 11/8/2022\n",
    "Description: Program uses JupyterNB to play with my own data and plotting with matplotlib\n",
    "\"\"\"\n",
    "import pandas as pd\n",
    "import matplotlib.pyplot as plt\n",
    "import numpy as np\n",
    "import utils\n",
    "import importlib\n",
    "importlib.reload(utils)"
   ]
  },
  {
   "cell_type": "markdown",
   "metadata": {},
   "source": [
    "## Data Description\n",
    "My data that I will be using in this project comes from the internet game wordle. I have been tracking my daily attempts along with these attributes:\n",
    "* Amount of tries(Tries)\n",
    "* Date(Date)\n",
    "* The word(Word)\n",
    "* The time completed(Time)\n",
    "* If I got the word(Got it)"
   ]
  },
  {
   "cell_type": "markdown",
   "metadata": {},
   "source": [
    "## Loading the Data\n",
    "First we load the data from a csv file into a pandas dataframe"
   ]
  },
  {
   "cell_type": "code",
   "execution_count": 132,
   "metadata": {},
   "outputs": [
    {
     "name": "stdout",
     "output_type": "stream",
     "text": [
      "          Tries   Word      Time Got it\n",
      "Date                                   \n",
      "9/14/22     5.0  Thyme   8:58 AM    Yes\n",
      "9/15/22     4.0  Doubt   9:09 AM    Yes\n",
      "9/16/22     6.0  Parer   1:11 PM    Yes\n",
      "9/17/22     NaN    NaN       NaN    NaN\n",
      "9/18/22     5.0  Stick  11:33 AM    Yes\n",
      "9/19/22     6.0  Trice   7:59 AM     No\n",
      "9/20/22     6.0  Alike   2:33 PM    Yes\n",
      "9/21/22     5.0  Recap   7:48 AM    Yes\n",
      "9/22/22     3.0  Saint   9:00 AM    Yes\n",
      "9/23/22     4.0  Glory   9:58 AM    Yes\n",
      "9/24/22     NaN    NaN       NaN    NaN\n",
      "9/25/22     5.0  Admit  11:06 PM    Yes\n",
      "9/26/22     5.0  Brisk   9:57 AM    Yes\n",
      "9/27/22     4.0  Soggy   2:40 PM    Yes\n",
      "9/28/22     4.0  Usurp   9:06 AM    Yes\n",
      "9/29/22     5.0  Scald  11:47 AM    Yes\n",
      "9/30/22     5.0  Scorn   9:47 AM    Yes\n",
      "10/1/22     4.0  Leave     10:14    Yes\n",
      "10/2/22     4.0  Twine   7:10 PM    Yes\n",
      "10/3/22     5.0  Sting  11:12 AM    Yes\n",
      "10/4/22     6.0  Bough   2:01 PM     No\n",
      "10/5/22     4.0  Marsh  11:54 AM    Yes\n",
      "10/6/22     4.0  Sloth  11:06 AM    Yes\n",
      "10/7/22     5.0  Dandy   9:56 AM    Yes\n",
      "10/8/22     NaN    NaN       NaN    NaN\n",
      "10/9/22     NaN    NaN       NaN    NaN\n",
      "10/10/22    5.0  Enjoy   9:59 AM    Yes\n",
      "10/11/22    6.0  Valid  10:38 AM     No\n",
      "10/12/22    4.0  Ionic   9:24 AM    Yes\n",
      "10/13/22    NaN    NaN       NaN    NaN\n",
      "10/14/22    5.0  Floor  11:33 AM    Yes\n",
      "10/15/22    NaN    NaN       NaN    NaN\n",
      "10/16/22    NaN    NaN       NaN    NaN\n",
      "10/17/22    6.0  Stein   9:55 AM    Yes\n",
      "10/18/22    5.0  Exist  11:05 AM    Yes\n",
      "10/19/22    6.0  Quirk   9:09 AM     No\n",
      "10/20/22    6.0  Denim  10:05 AM     No\n",
      "10/21/22    6.0  Grove   9:05 AM    Yes\n",
      "10/22/22    5.0  Spiel   9:14 AM    Yes\n",
      "10/23/22    6.0  Mummy   8:46 PM    Yes\n",
      "10/24/22    5.0  Fault   3:42 PM    Yes\n",
      "10/25/22    6.0  Foggy  10:24 AM     No\n",
      "10/26/22    6.0  Flout   9:01 AM     No\n",
      "10/27/22    NaN    NaN       NaN    NaN\n",
      "10/28/22    6.0  Sneak   9:16 AM    Yes\n",
      "10/29/22    6.0  Libel   8:40 PM    Yes\n",
      "10/30/22    5.0  Waltz   7:35 PM    Yes\n",
      "10/31/22    3.0  Aptly   8:53 AM    Yes\n",
      "11/1/22     5.0  Piney  12:02 PM    Yes\n",
      "11/2/22     6.0  Inept   9:04 AM    Yes\n",
      "11/3/22     5.0  Aloud  12:16 PM    Yes\n",
      "11/4/22     4.0  Photo   8:57 AM    Yes\n",
      "11/5/22     5.0  Dream   1:47 PM    Yes\n",
      "11/6/22     3.0  Stale  10:00 AM    Yes\n",
      "11/7/22     6.0  Begin   9:53 AM    Yes\n",
      "11/8/22     5.0  Spell   3:46 PM    Yes\n",
      "NaN         NaN    NaN       NaN    NaN\n"
     ]
    }
   ],
   "source": [
    "df = utils.load_into_df(\"My_Updated_Wordle.csv\")\n",
    "print(df)"
   ]
  },
  {
   "cell_type": "markdown",
   "metadata": {},
   "source": [
    "## Cleaning the data\n",
    "Next, we need to clean the data up a little. There are some days of wordle that I had missed so I need to delete the rows where there is no data present. Then write to a new csv file called **\"cleaned_wordle.csv\"**"
   ]
  },
  {
   "cell_type": "code",
   "execution_count": 133,
   "metadata": {},
   "outputs": [],
   "source": [
    "def delete_missing_data(df):\n",
    "    df.dropna(axis=0, how='any', thresh=None, inplace=True)\n",
    "    return df\n",
    "\n",
    "cleaned_df = delete_missing_data(df)\n",
    "cleaned_df.to_csv(\"cleaned_wordle.csv\")"
   ]
  },
  {
   "cell_type": "markdown",
   "metadata": {},
   "source": [
    "## Visualizing Data\n",
    "Plotting a line chart with the y-axis being the days and x-axis being the amount of tries"
   ]
  },
  {
   "cell_type": "code",
   "execution_count": 134,
   "metadata": {},
   "outputs": [
    {
     "data": {
      "image/png": "[encoded data removed]",
      "text/plain": [
       "<Figure size 432x288 with 1 Axes>"
      ]
     },
     "metadata": {
      "needs_background": "light"
     },
     "output_type": "display_data"
    }
   ],
   "source": [
    "def plot_data(x,y):\n",
    "    plt.bar(x,y, width=0.25)\n",
    "    plt.yticks(np.arange(0, len(x)+1, 5))\n",
    "    plt.xlabel(\"Amount of tries\")\n",
    "    plt.ylabel(\"Date\")\n",
    "    plt.title(\"Amount of tries in 49 days\")\n",
    "    plt.show()\n",
    "\n",
    "plot_data(cleaned_df.loc[:,\"Tries\"], cleaned_df.index)"
   ]
  }
 ],
 "metadata": {
  "kernelspec": {
   "display_name": "Python 3.9.12 ('base')",
   "language": "python",
   "name": "python3"
  },
  "language_info": {
   "codemirror_mode": {
    "name": "ipython",
    "version": 3
   },
   "file_extension": ".py",
   "mimetype": "text/x-python",
   "name": "python",
   "nbconvert_exporter": "python",
   "pygments_lexer": "ipython3",
   "version": "3.9.12"
  },
  "orig_nbformat": 4,
  "vscode": {
   "interpreter": {
    "hash": "c40ef6c36201f864b399f9acd17760385561694cf3c633e8ea711e7dff52fea3"
   }
  }
 },
 "nbformat": 4,
 "nbformat_minor": 2
}
